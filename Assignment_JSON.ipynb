{
 "cells": [
  {
   "cell_type": "code",
   "execution_count": null,
   "metadata": {},
   "outputs": [],
   "source": [
    "#   Creating employee.json\n",
    "#   Sample employee data\n",
    "employee_data = [\n",
    "{\n",
    "      \"Name\": \"Ab Singh\",\n",
    "      \"DOB\": \"1990--5-15\",\n",
    "      \"Height\": 170, \n",
    "      \"City\": \"New Delhi\"\n",
    "      \"State\": \"Delhi\"\n",
    "},\n",
    "{\n",
    "      \"Name\": \"J Smith\",\n",
    "      \"DOB\": \"1988--8-25\",\n",
    "      \"Height\": 165, \n",
    "      \"City\": \"Mumbai\"\n",
    "      \"State\": \"Maharashtra\"\n",
    "},\n",
    "{\n",
    "      \"Name\": \"DS Taparia\",\n",
    "      \"DOB\": \"1995-10-27\",\n",
    "      \"Height\": 167, \n",
    "      \"City\": \"Kolkata\"\n",
    "      \"State\": \"West Bengal\"  \n",
    "}\n",
    "{     \n",
    "      \"Name\": \"TB Sahu\",\n",
    "      \"DOB\": \"1990--11-26\",\n",
    "      \"Height\": 177, \n",
    "      \"City\": \"Bhubaneshwar\"\n",
    "      \"State\": \"Orissa\"\n",
    "      \n",
    "}\n",
    "{     \"Name\": \"XYZ\",\n",
    "      \"DOB\": \"1975-5-23\",\n",
    "      \"Height\": 178, \n",
    "      \"City\": \"Guwahati\"\n",
    "      \"State\": \"Assam\"\n",
    "}\n",
    "\n",
    "]\n",
    "\n",
    "import json\n",
    "\n",
    "#Writing employee data to employee json \n",
    "with open ()"
   ]
  }
 ],
 "metadata": {
  "language_info": {
   "name": "python"
  }
 },
 "nbformat": 4,
 "nbformat_minor": 2
}
